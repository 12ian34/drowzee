{
 "cells": [
  {
   "cell_type": "code",
   "execution_count": 7,
   "metadata": {
    "ExecuteTime": {
     "end_time": "2020-10-02T18:27:00.099601Z",
     "start_time": "2020-10-02T18:27:00.090943Z"
    }
   },
   "outputs": [],
   "source": [
    "import requests as re\n",
    "import time\n",
    "import os\n",
    "from twilio.rest import Client\n",
    "from datetime import datetime\n",
    "\n",
    "import pandas as pd\n",
    "from pandas.io.json import json_normalize"
   ]
  },
  {
   "cell_type": "code",
   "execution_count": 8,
   "metadata": {
    "ExecuteTime": {
     "end_time": "2020-10-02T18:27:00.353875Z",
     "start_time": "2020-10-02T18:27:00.344938Z"
    }
   },
   "outputs": [],
   "source": [
    "account_sid = os.environ[\"TWILIO_SID\"]\n",
    "auth_token = os.environ[\"TWILIO_AUTH_TOKEN\"]\n",
    "twilio_number = os.environ[\"TWILIO_NUMBER\"]\n",
    "my_number = os.environ[\"MY_NUMBER\"]"
   ]
  },
  {
   "cell_type": "code",
   "execution_count": 11,
   "metadata": {
    "ExecuteTime": {
     "end_time": "2020-10-02T18:27:00.699450Z",
     "start_time": "2020-10-02T18:27:00.694954Z"
    }
   },
   "outputs": [],
   "source": [
    "url_availability = \"https://designmuseum.digitickets.co.uk/availability?catID=28194&return=json&year=2020&month=11\"\n",
    "\n",
    "api_headers = {\n",
    "#     'referer': 'https://designmuseum.digitickets.co.uk/availability?catID=28194',\n",
    "#     'accept': 'application/json',\n",
    "#     'accept-encoding': 'gzip, deflate, br',\n",
    "#     'accept-language': 'en-US,en;q=0.9,fr;q=0.8,it;q=0.7',\n",
    "#     'Connection': 'keep-alive',\n",
    "#     'DNT': \"1\",\n",
    "    'cookie': 'PHPSESSID=438kfg0nv4dt2129ei6q9n9gq5; __cfduid=d76d9b76ba9950ca9abe1d6be76893bba1601661965'\n",
    "}\n",
    "\n",
    "r = re.get(\n",
    "    url_availability,\n",
    "    headers=api_headers\n",
    ")\n",
    "\n",
    "df = json_normalize(r.json()['events'])"
   ]
  },
  {
   "cell_type": "code",
   "execution_count": 40,
   "metadata": {
    "ExecuteTime": {
     "end_time": "2020-10-02T18:31:28.242331Z",
     "start_time": "2020-10-02T18:31:27.644550Z"
    }
   },
   "outputs": [],
   "source": [
    "if len(df[df['hasAvailability']==True]) > 0:\n",
    "    client = Client(account_sid, auth_token)\n",
    "    message = client.messages.create(\n",
    "        body = \"tickets available for: \" + str([date for date in df[df['hasAvailability']==True]['title']]),\n",
    "        from_= twilio_number,\n",
    "        to = my_number\n",
    "    )"
   ]
  },
  {
   "cell_type": "code",
   "execution_count": 39,
   "metadata": {
    "ExecuteTime": {
     "end_time": "2020-10-02T18:31:04.704054Z",
     "start_time": "2020-10-02T18:31:04.512702Z"
    }
   },
   "outputs": [
    {
     "data": {
      "text/html": [
       "<div>\n",
       "<style scoped>\n",
       "    .dataframe tbody tr th:only-of-type {\n",
       "        vertical-align: middle;\n",
       "    }\n",
       "\n",
       "    .dataframe tbody tr th {\n",
       "        vertical-align: top;\n",
       "    }\n",
       "\n",
       "    .dataframe thead th {\n",
       "        text-align: right;\n",
       "    }\n",
       "</style>\n",
       "<table border=\"1\" class=\"dataframe\">\n",
       "  <thead>\n",
       "    <tr style=\"text-align: right;\">\n",
       "      <th></th>\n",
       "      <th>title</th>\n",
       "      <th>date</th>\n",
       "      <th>body</th>\n",
       "      <th>hasAvailability</th>\n",
       "      <th>anySuitable</th>\n",
       "      <th>availabilityClass</th>\n",
       "      <th>availabilityPhrase</th>\n",
       "      <th>price</th>\n",
       "      <th>assignLink</th>\n",
       "      <th>keyItems</th>\n",
       "      <th>notification</th>\n",
       "      <th>sessions</th>\n",
       "    </tr>\n",
       "  </thead>\n",
       "  <tbody>\n",
       "    <tr>\n",
       "      <th>0</th>\n",
       "      <td>Availability for the 1st November 2020</td>\n",
       "      <td>2020-11-01</td>\n",
       "      <td></td>\n",
       "      <td>False</td>\n",
       "      <td>True</td>\n",
       "      <td></td>\n",
       "      <td></td>\n",
       "      <td>None</td>\n",
       "      <td>None</td>\n",
       "      <td>[]</td>\n",
       "      <td></td>\n",
       "      <td>[{'keyItemColour': None, 'name': 'Electronic: ...</td>\n",
       "    </tr>\n",
       "    <tr>\n",
       "      <th>1</th>\n",
       "      <td>Availability for the 7th November 2020</td>\n",
       "      <td>2020-11-07</td>\n",
       "      <td></td>\n",
       "      <td>False</td>\n",
       "      <td>True</td>\n",
       "      <td></td>\n",
       "      <td></td>\n",
       "      <td>None</td>\n",
       "      <td>None</td>\n",
       "      <td>[]</td>\n",
       "      <td></td>\n",
       "      <td>[{'keyItemColour': None, 'name': 'Electronic: ...</td>\n",
       "    </tr>\n",
       "    <tr>\n",
       "      <th>2</th>\n",
       "      <td>Availability for the 8th November 2020</td>\n",
       "      <td>2020-11-08</td>\n",
       "      <td></td>\n",
       "      <td>False</td>\n",
       "      <td>True</td>\n",
       "      <td></td>\n",
       "      <td></td>\n",
       "      <td>None</td>\n",
       "      <td>None</td>\n",
       "      <td>[]</td>\n",
       "      <td></td>\n",
       "      <td>[{'keyItemColour': None, 'name': 'Electronic: ...</td>\n",
       "    </tr>\n",
       "    <tr>\n",
       "      <th>3</th>\n",
       "      <td>Availability for the 14th November 2020</td>\n",
       "      <td>2020-11-14</td>\n",
       "      <td></td>\n",
       "      <td>False</td>\n",
       "      <td>True</td>\n",
       "      <td></td>\n",
       "      <td></td>\n",
       "      <td>None</td>\n",
       "      <td>None</td>\n",
       "      <td>[]</td>\n",
       "      <td></td>\n",
       "      <td>[{'keyItemColour': None, 'name': 'Electronic: ...</td>\n",
       "    </tr>\n",
       "    <tr>\n",
       "      <th>4</th>\n",
       "      <td>Availability for the 15th November 2020</td>\n",
       "      <td>2020-11-15</td>\n",
       "      <td></td>\n",
       "      <td>False</td>\n",
       "      <td>True</td>\n",
       "      <td></td>\n",
       "      <td></td>\n",
       "      <td>None</td>\n",
       "      <td>None</td>\n",
       "      <td>[]</td>\n",
       "      <td></td>\n",
       "      <td>[{'keyItemColour': None, 'name': 'Electronic: ...</td>\n",
       "    </tr>\n",
       "    <tr>\n",
       "      <th>5</th>\n",
       "      <td>Availability for the 21st November 2020</td>\n",
       "      <td>2020-11-21</td>\n",
       "      <td></td>\n",
       "      <td>False</td>\n",
       "      <td>True</td>\n",
       "      <td></td>\n",
       "      <td></td>\n",
       "      <td>None</td>\n",
       "      <td>None</td>\n",
       "      <td>[]</td>\n",
       "      <td></td>\n",
       "      <td>[{'keyItemColour': None, 'name': 'Electronic: ...</td>\n",
       "    </tr>\n",
       "    <tr>\n",
       "      <th>6</th>\n",
       "      <td>Availability for the 22nd November 2020</td>\n",
       "      <td>2020-11-22</td>\n",
       "      <td></td>\n",
       "      <td>False</td>\n",
       "      <td>True</td>\n",
       "      <td></td>\n",
       "      <td></td>\n",
       "      <td>None</td>\n",
       "      <td>None</td>\n",
       "      <td>[]</td>\n",
       "      <td></td>\n",
       "      <td>[{'keyItemColour': None, 'name': 'Electronic: ...</td>\n",
       "    </tr>\n",
       "    <tr>\n",
       "      <th>7</th>\n",
       "      <td>Availability for the 28th November 2020</td>\n",
       "      <td>2020-11-28</td>\n",
       "      <td></td>\n",
       "      <td>False</td>\n",
       "      <td>True</td>\n",
       "      <td></td>\n",
       "      <td></td>\n",
       "      <td>None</td>\n",
       "      <td>None</td>\n",
       "      <td>[]</td>\n",
       "      <td></td>\n",
       "      <td>[{'keyItemColour': None, 'name': 'Electronic: ...</td>\n",
       "    </tr>\n",
       "    <tr>\n",
       "      <th>8</th>\n",
       "      <td>Availability for the 29th November 2020</td>\n",
       "      <td>2020-11-29</td>\n",
       "      <td></td>\n",
       "      <td>True</td>\n",
       "      <td>True</td>\n",
       "      <td></td>\n",
       "      <td></td>\n",
       "      <td>None</td>\n",
       "      <td>None</td>\n",
       "      <td>[]</td>\n",
       "      <td></td>\n",
       "      <td>[{'keyItemColour': None, 'name': 'Electronic: ...</td>\n",
       "    </tr>\n",
       "  </tbody>\n",
       "</table>\n",
       "</div>"
      ],
      "text/plain": [
       "                                     title        date body  hasAvailability  \\\n",
       "0   Availability for the 1st November 2020  2020-11-01                 False   \n",
       "1   Availability for the 7th November 2020  2020-11-07                 False   \n",
       "2   Availability for the 8th November 2020  2020-11-08                 False   \n",
       "3  Availability for the 14th November 2020  2020-11-14                 False   \n",
       "4  Availability for the 15th November 2020  2020-11-15                 False   \n",
       "5  Availability for the 21st November 2020  2020-11-21                 False   \n",
       "6  Availability for the 22nd November 2020  2020-11-22                 False   \n",
       "7  Availability for the 28th November 2020  2020-11-28                 False   \n",
       "8  Availability for the 29th November 2020  2020-11-29                  True   \n",
       "\n",
       "   anySuitable availabilityClass availabilityPhrase price assignLink keyItems  \\\n",
       "0         True                                       None       None       []   \n",
       "1         True                                       None       None       []   \n",
       "2         True                                       None       None       []   \n",
       "3         True                                       None       None       []   \n",
       "4         True                                       None       None       []   \n",
       "5         True                                       None       None       []   \n",
       "6         True                                       None       None       []   \n",
       "7         True                                       None       None       []   \n",
       "8         True                                       None       None       []   \n",
       "\n",
       "  notification                                           sessions  \n",
       "0               [{'keyItemColour': None, 'name': 'Electronic: ...  \n",
       "1               [{'keyItemColour': None, 'name': 'Electronic: ...  \n",
       "2               [{'keyItemColour': None, 'name': 'Electronic: ...  \n",
       "3               [{'keyItemColour': None, 'name': 'Electronic: ...  \n",
       "4               [{'keyItemColour': None, 'name': 'Electronic: ...  \n",
       "5               [{'keyItemColour': None, 'name': 'Electronic: ...  \n",
       "6               [{'keyItemColour': None, 'name': 'Electronic: ...  \n",
       "7               [{'keyItemColour': None, 'name': 'Electronic: ...  \n",
       "8               [{'keyItemColour': None, 'name': 'Electronic: ...  "
      ]
     },
     "execution_count": 39,
     "metadata": {},
     "output_type": "execute_result"
    }
   ],
   "source": [
    "df"
   ]
  },
  {
   "cell_type": "code",
   "execution_count": 9,
   "metadata": {
    "ExecuteTime": {
     "end_time": "2020-10-02T18:27:00.469671Z",
     "start_time": "2020-10-02T18:27:00.466771Z"
    }
   },
   "outputs": [],
   "source": [
    "# url_cookie = \"https://designmuseum.digitickets.co.uk/availability/\"\n",
    "# s = requests.Session()\n",
    "# s.get(url_cookie)\n",
    "# s.cookies"
   ]
  }
 ],
 "metadata": {
  "kernelspec": {
   "display_name": "Python 3",
   "language": "python",
   "name": "python3"
  },
  "language_info": {
   "codemirror_mode": {
    "name": "ipython",
    "version": 3
   },
   "file_extension": ".py",
   "mimetype": "text/x-python",
   "name": "python",
   "nbconvert_exporter": "python",
   "pygments_lexer": "ipython3",
   "version": "3.8.5"
  },
  "varInspector": {
   "cols": {
    "lenName": 16,
    "lenType": 16,
    "lenVar": 40
   },
   "kernels_config": {
    "python": {
     "delete_cmd_postfix": "",
     "delete_cmd_prefix": "del ",
     "library": "var_list.py",
     "varRefreshCmd": "print(var_dic_list())"
    },
    "r": {
     "delete_cmd_postfix": ") ",
     "delete_cmd_prefix": "rm(",
     "library": "var_list.r",
     "varRefreshCmd": "cat(var_dic_list()) "
    }
   },
   "types_to_exclude": [
    "module",
    "function",
    "builtin_function_or_method",
    "instance",
    "_Feature"
   ],
   "window_display": false
  }
 },
 "nbformat": 4,
 "nbformat_minor": 4
}
